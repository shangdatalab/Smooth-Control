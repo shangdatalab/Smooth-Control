{
 "cells": [
  {
   "cell_type": "code",
   "execution_count": 3,
   "id": "e5af3990-0a37-4440-a1ad-340cb12de375",
   "metadata": {},
   "outputs": [],
   "source": [
    "import os, json, math, numpy as np, pandas as pd\n",
    "from pathlib import Path"
   ]
  },
  {
   "cell_type": "code",
   "execution_count": 4,
   "id": "4e5bf873-4f3e-4505-8733-eb240b5ea21d",
   "metadata": {},
   "outputs": [],
   "source": [
    "DATA_DIR = Path(\"../data\")\n",
    "IN_PATH = DATA_DIR / \"pairwise.jsonl\"\n",
    "OUT_JSON = DATA_DIR / \"elo_ratings.json\"\n",
    "OUT_CSV = DATA_DIR / \"elo_ratings.csv\"\n",
    "\n",
    "PRIOR_STD = float(os.environ.get(\"PRIOR_STD\",\"350\"))\n",
    "PRIOR_MEAN = 1500.0\n",
    "TARGET_MEAN = 1500.0\n",
    "MAX_ITERS = 2000\n",
    "TOL = 1e-7\n",
    "LR = 100.0"
   ]
  },
  {
   "cell_type": "code",
   "execution_count": 5,
   "id": "111ee301-58b9-4a59-a15d-07ac429cf394",
   "metadata": {},
   "outputs": [],
   "source": [
    "rows=[]\n",
    "with open(IN_PATH,\"r\",encoding=\"utf-8\") as f:\n",
    "    for line in f:\n",
    "        line=line.strip()\n",
    "        if line:\n",
    "            rows.append(json.loads(line))\n",
    "ids = sorted(list({r[\"left_id\"] for r in rows} | {r[\"right_id\"] for r in rows}))\n",
    "idx = {k:i for i,k in enumerate(ids)}\n",
    "n=len(ids)\n",
    "\n",
    "wins = np.zeros((n,n),dtype=np.float64)\n",
    "counts = np.zeros((n,n),dtype=np.float64)\n",
    "for r in rows:\n",
    "    i = idx[r[\"left_id\"]]; j = idx[r[\"right_id\"]]\n",
    "    counts[i,j]+=1; counts[j,i]+=1\n",
    "    if r[\"winner\"]==1:\n",
    "        wins[i,j]+=1\n",
    "    else:\n",
    "        wins[j,i]+=1\n",
    "\n",
    "pairs=[]\n",
    "for i in range(n):\n",
    "    for j in range(i+1,n):\n",
    "        n_ij = counts[i,j]\n",
    "        if n_ij>0:\n",
    "            w_ij = wins[i,j]\n",
    "            pairs.append((i,j,w_ij,n_ij))\n",
    "\n",
    "W = np.sum(wins,axis=1)\n",
    "L = np.sum(wins,axis=0)"
   ]
  },
  {
   "cell_type": "code",
   "execution_count": 6,
   "id": "717f2495-54e7-4cdf-aff0-547bf8187a82",
   "metadata": {},
   "outputs": [],
   "source": [
    "k = math.log(10.0)/400.0\n",
    "\n",
    "def ll_and_grad(r):\n",
    "    g = np.zeros_like(r)\n",
    "    ll = 0.0\n",
    "    for i,j,w,n_ij in pairs:\n",
    "        pij = 1.0/(1.0+10.0**((r[j]-r[i])/400.0))\n",
    "        pij = min(max(pij,1e-12),1-1e-12)\n",
    "        ll += w*math.log(pij) + (n_ij-w)*math.log(1.0-pij)\n",
    "        d = k*(w - n_ij*pij)\n",
    "        g[i] += d\n",
    "        g[j] -= d\n",
    "    var = PRIOR_STD**2\n",
    "    ll += -0.5*np.sum((r-PRIOR_MEAN)**2)/var\n",
    "    g += -(r-PRIOR_MEAN)/var\n",
    "    return ll, g\n",
    "\n",
    "r = np.full(n, PRIOR_MEAN, dtype=np.float64)\n",
    "best_ll, best_r = -1e300, r.copy()"
   ]
  },
  {
   "cell_type": "code",
   "execution_count": 7,
   "id": "bc2a8fa1-4862-41d4-9535-d4e35de47dc7",
   "metadata": {},
   "outputs": [
    {
     "name": "stdout",
     "output_type": "stream",
     "text": [
      "../data/elo_ratings.json\n",
      "../data/elo_ratings.csv\n",
      "mean=1500.000 std=193.164\n"
     ]
    }
   ],
   "source": [
    "for it in range(MAX_ITERS):\n",
    "    ll, g = ll_and_grad(r)\n",
    "    step = LR\n",
    "    ok = False\n",
    "    for _ in range(20):\n",
    "        r_new = r + step*g\n",
    "        ll_new, _ = ll_and_grad(r_new)\n",
    "        if ll_new > ll:\n",
    "            r = r_new\n",
    "            ll = ll_new\n",
    "            ok = True\n",
    "            break\n",
    "        step *= 0.5\n",
    "    if not ok:\n",
    "        break\n",
    "    if ll > best_ll:\n",
    "        best_ll, best_r = ll, r.copy()\n",
    "    if np.linalg.norm(step*g, ord=np.inf) < TOL:\n",
    "        break\n",
    "\n",
    "r = best_r - np.mean(best_r) + TARGET_MEAN\n",
    "games = (W+L).astype(int)\n",
    "df = pd.DataFrame({\"id\":ids,\"rating\":r,\"wins\":W.astype(int),\"losses\":L.astype(int),\"games\":games}).sort_values(\"rating\",ascending=False).reset_index(drop=True)\n",
    "\n",
    "OUT_JSON.write_text(json.dumps(\n",
    "    [{\"id\":row.id,\"rating\":float(row.rating),\"wins\":int(row.wins),\"losses\":int(row.losses),\"games\":int(row.games)} for row in df.itertuples(index=False)],\n",
    "    ensure_ascii=False, indent=2\n",
    "), encoding=\"utf-8\")\n",
    "df.to_csv(OUT_CSV,index=False)\n",
    "print(str(OUT_JSON))\n",
    "print(str(OUT_CSV))\n",
    "print(f\"mean={df.rating.mean():.3f} std={df.rating.std(ddof=0):.3f}\")"
   ]
  },
  {
   "cell_type": "code",
   "execution_count": null,
   "id": "e62f3df5-2a1e-441b-8c63-6e103a997238",
   "metadata": {},
   "outputs": [],
   "source": []
  }
 ],
 "metadata": {
  "kernelspec": {
   "display_name": "Python 3 (ipykernel)",
   "language": "python",
   "name": "python3"
  },
  "language_info": {
   "codemirror_mode": {
    "name": "ipython",
    "version": 3
   },
   "file_extension": ".py",
   "mimetype": "text/x-python",
   "name": "python",
   "nbconvert_exporter": "python",
   "pygments_lexer": "ipython3",
   "version": "3.10.12"
  }
 },
 "nbformat": 4,
 "nbformat_minor": 5
}
